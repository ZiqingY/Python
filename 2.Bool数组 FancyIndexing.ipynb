{
 "cells": [
  {
   "cell_type": "code",
   "execution_count": 6,
   "id": "criminal-poison",
   "metadata": {},
   "outputs": [
    {
     "data": {
      "text/plain": [
       "array([[False, False,  True,  True],\n",
       "       [ True,  True,  True,  True]])"
      ]
     },
     "execution_count": 6,
     "metadata": {},
     "output_type": "execute_result"
    }
   ],
   "source": [
    "# 比较操作,生成布尔数组\n",
    "import numpy as np\n",
    "x = np.array([[1, 2, 3, 4],\n",
    "                         [1 6, 7, 8]])\n",
    "x > 2"
   ]
  },
  {
   "cell_type": "code",
   "execution_count": 10,
   "id": "printable-chase",
   "metadata": {},
   "outputs": [
    {
     "data": {
      "text/plain": [
       "3"
      ]
     },
     "execution_count": 10,
     "metadata": {},
     "output_type": "execute_result"
    }
   ],
   "source": [
    "# 统计记录的个数\n",
    "np.count_nonzero(x < 4)"
   ]
  },
  {
   "cell_type": "code",
   "execution_count": 12,
   "id": "gothic-luxury",
   "metadata": {},
   "outputs": [
    {
     "data": {
      "text/plain": [
       "array([2, 0])"
      ]
     },
     "execution_count": 12,
     "metadata": {},
     "output_type": "execute_result"
    }
   ],
   "source": [
    "# 统计每行的满足条件个数\n",
    "np.sum(x<3, axis=1)"
   ]
  },
  {
   "cell_type": "code",
   "execution_count": 30,
   "id": "entitled-return",
   "metadata": {},
   "outputs": [
    {
     "name": "stdout",
     "output_type": "stream",
     "text": [
      "True\n",
      "False\n",
      "[ True False]\n"
     ]
    }
   ],
   "source": [
    "#统计任意/所有元素是否满足条件, 同样可以在一个维度上分别判断\n",
    "print(np.any(x > 4))\n",
    "print(np.all(x < 6))\n",
    "print(np.all(x<5, axis=1))"
   ]
  },
  {
   "cell_type": "code",
   "execution_count": 32,
   "id": "functioning-belle",
   "metadata": {},
   "outputs": [
    {
     "data": {
      "text/plain": [
       "3"
      ]
     },
     "execution_count": 32,
     "metadata": {},
     "output_type": "execute_result"
    }
   ],
   "source": [
    "#布尔逻辑运算: & and;     | or;    ^ xor;    ~ not\n",
    "np.sum((x > 4) & (x<8))"
   ]
  },
  {
   "cell_type": "code",
   "execution_count": 34,
   "id": "soviet-tomorrow",
   "metadata": {},
   "outputs": [
    {
     "data": {
      "text/plain": [
       "array([1, 2, 3])"
      ]
     },
     "execution_count": 34,
     "metadata": {},
     "output_type": "execute_result"
    }
   ],
   "source": [
    "# 通过布尔判断选择满足条件元素, 返回一维数组\n",
    "x[x<4]"
   ]
  },
  {
   "cell_type": "code",
   "execution_count": 38,
   "id": "functioning-shannon",
   "metadata": {},
   "outputs": [
    {
     "data": {
      "text/plain": [
       "array([False, False, False, False, False, False, False, False, False,\n",
       "       False, False, False, False, False, False, False, False, False,\n",
       "       False, False, False, False, False, False, False, False, False,\n",
       "       False, False, False, False, False, False, False, False, False,\n",
       "       False, False, False, False, False, False, False, False, False,\n",
       "       False, False, False, False, False, False, False, False, False,\n",
       "       False, False, False, False, False, False, False, False, False,\n",
       "       False, False, False, False, False, False, False, False, False,\n",
       "       False, False, False, False, False, False, False, False, False,\n",
       "       False, False, False, False, False, False, False, False, False,\n",
       "       False, False, False, False, False, False, False, False, False,\n",
       "       False, False, False, False, False, False, False, False, False,\n",
       "       False, False, False, False, False, False, False, False, False,\n",
       "       False, False, False, False, False, False, False, False, False,\n",
       "       False, False, False, False, False, False, False, False, False,\n",
       "       False, False, False, False, False, False, False, False, False,\n",
       "       False, False, False, False, False, False, False, False, False,\n",
       "       False, False, False, False, False, False, False, False, False,\n",
       "       False, False, False, False, False, False, False, False, False,\n",
       "       False, False,  True,  True,  True,  True,  True,  True,  True,\n",
       "        True,  True,  True,  True,  True,  True,  True,  True,  True,\n",
       "        True,  True,  True,  True,  True,  True,  True,  True,  True,\n",
       "        True,  True,  True,  True,  True,  True,  True,  True,  True,\n",
       "        True,  True,  True,  True,  True,  True,  True,  True,  True,\n",
       "        True,  True,  True,  True,  True,  True,  True,  True,  True,\n",
       "        True,  True,  True,  True,  True,  True,  True,  True,  True,\n",
       "        True,  True,  True,  True,  True,  True,  True,  True,  True,\n",
       "        True,  True,  True,  True,  True,  True,  True,  True,  True,\n",
       "        True,  True,  True,  True,  True,  True,  True,  True,  True,\n",
       "        True, False, False, False, False, False, False, False, False,\n",
       "       False, False, False, False, False, False, False, False, False,\n",
       "       False, False, False, False, False, False, False, False, False,\n",
       "       False, False, False, False, False, False, False, False, False,\n",
       "       False, False, False, False, False, False, False, False, False,\n",
       "       False, False, False, False, False, False, False, False, False,\n",
       "       False, False, False, False, False, False, False, False, False,\n",
       "       False, False, False, False, False, False, False, False, False,\n",
       "       False, False, False, False, False, False, False, False, False,\n",
       "       False, False, False, False, False, False, False, False, False,\n",
       "       False, False, False, False, False, False, False, False, False,\n",
       "       False, False, False, False, False])"
      ]
     },
     "execution_count": 38,
     "metadata": {},
     "output_type": "execute_result"
    }
   ],
   "source": [
    "# 令365天中夏季的天数为TRUE\n",
    "summer = (np.arange(365) - 172 < 90) & (np.arange(365) - 172 > 0)\n",
    "summer"
   ]
  },
  {
   "cell_type": "code",
   "execution_count": 46,
   "id": "arbitrary-production",
   "metadata": {},
   "outputs": [
    {
     "data": {
      "text/plain": [
       "array([83, 62, 23, 40,  5, 59, 17, 56, 42, 33])"
      ]
     },
     "execution_count": 46,
     "metadata": {},
     "output_type": "execute_result"
    }
   ],
   "source": [
    "# fancy indexing\n",
    "y = np.random.randint(100, size=10)\n",
    "y"
   ]
  },
  {
   "cell_type": "code",
   "execution_count": 48,
   "id": "efficient-winter",
   "metadata": {},
   "outputs": [
    {
     "data": {
      "text/plain": [
       "array([40, 56,  5])"
      ]
     },
     "execution_count": 48,
     "metadata": {},
     "output_type": "execute_result"
    }
   ],
   "source": [
    "ind=[3, 7, 4]\n",
    "y[ind]"
   ]
  },
  {
   "cell_type": "code",
   "execution_count": 52,
   "id": "dangerous-effects",
   "metadata": {},
   "outputs": [
    {
     "data": {
      "text/plain": [
       "array([[62, 23],\n",
       "       [40,  5]])"
      ]
     },
     "execution_count": 52,
     "metadata": {},
     "output_type": "execute_result"
    }
   ],
   "source": [
    "# fancy indexing 的索引输出和索引维度一致\n",
    "nd2=np.array([[1, 2],\n",
    "                              [3,4]])\n",
    "y[ind2]"
   ]
  },
  {
   "cell_type": "code",
   "execution_count": 55,
   "id": "imposed-coverage",
   "metadata": {},
   "outputs": [
    {
     "data": {
      "text/plain": [
       "array([ 2,  5, 11])"
      ]
     },
     "execution_count": 55,
     "metadata": {},
     "output_type": "execute_result"
    }
   ],
   "source": [
    "# 索引row行col列的元素s\n",
    "Y = np.arange(12).reshape((3,4))\n",
    "row = np.array([0, 1, 2])\n",
    "col = np.array([2, 1, 3])\n",
    "Y[row, col]"
   ]
  },
  {
   "cell_type": "code",
   "execution_count": 59,
   "id": "competitive-economics",
   "metadata": {},
   "outputs": [
    {
     "name": "stdout",
     "output_type": "stream",
     "text": [
      "[[ 0  1  2  3]\n",
      " [ 4  5  6  7]\n",
      " [ 8  9 10 11]]\n",
      "[10  8  9]\n",
      "[[4 5 5]\n",
      " [8 9 9]]\n"
     ]
    }
   ],
   "source": [
    "# fancy index 与其他索引方式(切片)的结合使用\n",
    "print(Y)\n",
    "print(Y[2, [2, 0, 1]])\n",
    "print(Y[1:,[0, 1, 1]])"
   ]
  },
  {
   "cell_type": "code",
   "execution_count": 74,
   "id": "undefined-freight",
   "metadata": {},
   "outputs": [
    {
     "name": "stdout",
     "output_type": "stream",
     "text": [
      "[[1]\n",
      " [2]\n",
      " [3]]\n",
      "[[[1]]\n",
      "\n",
      " [[2]]\n",
      "\n",
      " [[3]]]\n",
      "[[ 0  2]\n",
      " [ 4  6]\n",
      " [ 8 10]]\n"
     ]
    }
   ],
   "source": [
    "# 补充newaxis; 并与fancy indexing组合\n",
    "x = np.array([[1],\n",
    "                        [2],\n",
    "                        [3]])\n",
    "print(x)\n",
    "print(x[:, np.newaxis])\n",
    "mask = np.array([1, 0, 1, 0], dtype=bool)\n",
    "print(Y[row[:, np.newaxis], mask])"
   ]
  },
  {
   "cell_type": "code",
   "execution_count": 82,
   "id": "broke-functionality",
   "metadata": {},
   "outputs": [
    {
     "name": "stdout",
     "output_type": "stream",
     "text": [
      "(100, 2)\n"
     ]
    },
    {
     "data": {
      "image/png": "[encoded data removed]",
      "text/plain": [
       "<Figure size 432x288 with 1 Axes>"
      ]
     },
     "metadata": {},
     "output_type": "display_data"
    }
   ],
   "source": [
    "# 例: 选择随机点构成随机矩阵\n",
    "mean=[0,0]\n",
    "cov=[[1,2],\n",
    "            [2,5]]\n",
    "X = np.random.multivariate_normal(mean, cov, 100)\n",
    "print(X.shape)\n",
    "\n",
    "import matplotlib.pyplot as plt\n",
    "import seaborn; seaborn.set()\n",
    "plt.scatter(X[:, 0], X[:, 1]);"
   ]
  },
  {
   "cell_type": "code",
   "execution_count": 102,
   "id": "front-suggestion",
   "metadata": {},
   "outputs": [
    {
     "name": "stdout",
     "output_type": "stream",
     "text": [
      "[19 91 58 88  7  4 57 21 23 43 46 47 27 64 34 49 26 86 54 77]\n",
      "(20, 2)\n"
     ]
    },
    {
     "data": {
      "image/png": "[encoded data removed]",
      "text/plain": [
       "<Figure size 432x288 with 1 Axes>"
      ]
     },
     "metadata": {},
     "output_type": "display_data"
    }
   ],
   "source": [
    "# 接着上面, 随机选取20个索引, 进而随机选取20个值在X中, 在图中标记出来\n",
    "indicies  = np.random.choice(X.shape[0], 20, replace=False)\n",
    "print(indicies)\n",
    "selection = X[indicies]\n",
    "print(selection.shape)\n",
    "plt.scatter(X[:, 0], X[:, 1], alpha=0.5) # alpha表示点的透明度\n",
    "plt.scatter(selection[:, 0], selection[:, 1], facecolor='none', edgecolor='b', s=100); # 设置选中点的图形参数用于ditinguish: 分别为圈的填充色, 圈边缘的颜色, s为圈的size"
   ]
  },
  {
   "cell_type": "code",
   "execution_count": 105,
   "id": "viral-revision",
   "metadata": {},
   "outputs": [
    {
     "name": "stdout",
     "output_type": "stream",
     "text": [
      "[  0 998 998   3 998   5   6   7 998   9]\n",
      "[0 0 0 3 0 5 6 7 0 9]\n"
     ]
    }
   ],
   "source": [
    "# 利用索引改变列表元素值\n",
    "a = np.arange(10)\n",
    "i = np.array([2, 1, 8, 4])\n",
    "a[i] = 998\n",
    "print(a)\n",
    "a[i] -=998\n",
    "print(a)"
   ]
  },
  {
   "cell_type": "code",
   "execution_count": 109,
   "id": "short-blink",
   "metadata": {},
   "outputs": [
    {
     "name": "stdout",
     "output_type": "stream",
     "text": [
      "[0. 0. 1. 2. 3. 0. 0. 0. 0. 0.]\n"
     ]
    }
   ],
   "source": [
    "# 利用索引进行元素累加(可用于计算频数, 画直方图)\n",
    "b = np.zeros(10)\n",
    "j = [2, 3, 3, 4, 4, 4]\n",
    "np.add.at(b, j, 1)\n",
    "print(b)"
   ]
  },
  {
   "cell_type": "code",
   "execution_count": null,
   "id": "early-default",
   "metadata": {},
   "outputs": [],
   "source": []
  }
 ],
 "metadata": {
  "kernelspec": {
   "display_name": "Python 3",
   "language": "python",
   "name": "python3"
  },
  "language_info": {
   "codemirror_mode": {
    "name": "ipython",
    "version": 3
   },
   "file_extension": ".py",
   "mimetype": "text/x-python",
   "name": "python",
   "nbconvert_exporter": "python",
   "pygments_lexer": "ipython3",
   "version": "3.8.5"
  }
 },
 "nbformat": 4,
 "nbformat_minor": 5
}
