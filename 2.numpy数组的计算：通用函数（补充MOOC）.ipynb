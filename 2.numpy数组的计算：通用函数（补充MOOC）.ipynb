{
 "cells": [
  {
   "cell_type": "code",
   "execution_count": 3,
   "id": "champion-monthly",
   "metadata": {},
   "outputs": [
    {
     "data": {
      "text/plain": [
       "array([0.        , 0.5       , 0.66666667, 0.75      , 0.8       ])"
      ]
     },
     "execution_count": 3,
     "metadata": {},
     "output_type": "execute_result"
    }
   ],
   "source": [
    "#Numpy 数组的计算\n",
    "import numpy as np\n",
    "np.arange(5)/np.arange(1,6)"
   ]
  },
  {
   "cell_type": "code",
   "execution_count": 5,
   "id": "canadian-adoption",
   "metadata": {},
   "outputs": [
    {
     "data": {
      "text/plain": [
       "array([[  1,   2,   4],\n",
       "       [  8,  16,  32],\n",
       "       [ 64, 128, 256]], dtype=int32)"
      ]
     },
     "execution_count": 5,
     "metadata": {},
     "output_type": "execute_result"
    }
   ],
   "source": [
    "2 ** np.arange(9).reshape((3, 3))"
   ]
  },
  {
   "cell_type": "code",
   "execution_count": 7,
   "id": "thorough-cleaner",
   "metadata": {},
   "outputs": [
    {
     "data": {
      "text/plain": [
       "' numpy实现的算术运算符\\nnp.add\\nnp.substract   \\nnp.negative\\nnp.divide\\nnp.floor_divide  最大整约数\\nnp.power\\nnp.mod               余数\\n'"
      ]
     },
     "execution_count": 7,
     "metadata": {},
     "output_type": "execute_result"
    }
   ],
   "source": [
    "''' numpy实现的算术运算符\n",
    "np.add\n",
    "np.substract   \n",
    "np.negative\n",
    "np.divide\n",
    "np.floor_divide  最大整约数\n",
    "np.power\n",
    "np.mod               余数\n",
    "'''"
   ]
  },
  {
   "cell_type": "code",
   "execution_count": 11,
   "id": "substantial-blocking",
   "metadata": {},
   "outputs": [],
   "source": [
    "#专用函数\n",
    "from scipy import special\n",
    "special?"
   ]
  },
  {
   "cell_type": "code",
   "execution_count": 15,
   "id": "overall-airport",
   "metadata": {},
   "outputs": [
    {
     "data": {
      "text/plain": [
       "array([ 0., 10., 20., 30., 40.])"
      ]
     },
     "execution_count": 15,
     "metadata": {},
     "output_type": "execute_result"
    }
   ],
   "source": [
    "#所有的通用函数都可以用out指定结果的存放位置\n",
    "x = np.arange(5)\n",
    "y = np.empty(5)\n",
    "np.multiply(x, 10, out=y)"
   ]
  },
  {
   "cell_type": "code",
   "execution_count": 24,
   "id": "asian-bosnia",
   "metadata": {},
   "outputs": [
    {
     "data": {
      "text/plain": [
       "array([ 1.,  2.,  4.,  8., 16.])"
      ]
     },
     "execution_count": 24,
     "metadata": {},
     "output_type": "execute_result"
    }
   ],
   "source": [
    "z = np.zeros(10)\n",
    "np.power(2, x, out=z[::2])   #写入指定数组的每隔一个元素的位置"
   ]
  },
  {
   "cell_type": "code",
   "execution_count": 30,
   "id": "approximate-muslim",
   "metadata": {},
   "outputs": [
    {
     "data": {
      "text/plain": [
       "15"
      ]
     },
     "execution_count": 30,
     "metadata": {},
     "output_type": "execute_result"
    }
   ],
   "source": [
    "#直接在对象上计算\n",
    "a = np.arange(1,6)\n",
    "np.add.reduce(a)"
   ]
  },
  {
   "cell_type": "code",
   "execution_count": 32,
   "id": "congressional-provider",
   "metadata": {},
   "outputs": [
    {
     "data": {
      "text/plain": [
       "120"
      ]
     },
     "execution_count": 32,
     "metadata": {},
     "output_type": "execute_result"
    }
   ],
   "source": [
    "np.multiply.reduce(a)"
   ]
  },
  {
   "cell_type": "code",
   "execution_count": 34,
   "id": "common-checklist",
   "metadata": {},
   "outputs": [
    {
     "data": {
      "text/plain": [
       "array([  1,   2,   6,  24, 120], dtype=int32)"
      ]
     },
     "execution_count": 34,
     "metadata": {},
     "output_type": "execute_result"
    }
   ],
   "source": [
    "#累计计算\n",
    "np.multiply.accumulate(a)"
   ]
  },
  {
   "cell_type": "code",
   "execution_count": 36,
   "id": "loving-quick",
   "metadata": {},
   "outputs": [
    {
     "data": {
      "text/plain": [
       "array([[ 1,  2,  3,  4,  5],\n",
       "       [ 2,  4,  6,  8, 10],\n",
       "       [ 3,  6,  9, 12, 15],\n",
       "       [ 4,  8, 12, 16, 20],\n",
       "       [ 5, 10, 15, 20, 25]])"
      ]
     },
     "execution_count": 36,
     "metadata": {},
     "output_type": "execute_result"
    }
   ],
   "source": [
    "#所有元素的两两函数运算\n",
    "np.multiply.outer(a, a)"
   ]
  },
  {
   "cell_type": "code",
   "execution_count": 43,
   "id": "peripheral-diabetes",
   "metadata": {},
   "outputs": [
    {
     "data": {
      "text/plain": [
       "(0.11106194070721365, 0.872406445821425)"
      ]
     },
     "execution_count": 43,
     "metadata": {},
     "output_type": "execute_result"
    }
   ],
   "source": [
    "# 最大值和最小值\n",
    "c = np.random.random(10)\n",
    "min(c), max(c)"
   ]
  },
  {
   "cell_type": "code",
   "execution_count": 47,
   "id": "likely-network",
   "metadata": {},
   "outputs": [
    {
     "data": {
      "text/plain": [
       "(0.11106194070721365, 0.872406445821425)"
      ]
     },
     "execution_count": 47,
     "metadata": {},
     "output_type": "execute_result"
    }
   ],
   "source": [
    "c.min(), c.max()"
   ]
  },
  {
   "cell_type": "code",
   "execution_count": 50,
   "id": "social-yugoslavia",
   "metadata": {},
   "outputs": [
    {
     "data": {
      "text/plain": [
       "array([0.46079626, 0.23201292, 0.00935656])"
      ]
     },
     "execution_count": 50,
     "metadata": {},
     "output_type": "execute_result"
    }
   ],
   "source": [
    "M = np.random.random((3,4))\n",
    "M.min(axis=1)"
   ]
  },
  {
   "cell_type": "code",
   "execution_count": 55,
   "id": "beautiful-pennsylvania",
   "metadata": {},
   "outputs": [
    {
     "data": {
      "text/plain": [
       "0.01984250069570674"
      ]
     },
     "execution_count": 55,
     "metadata": {},
     "output_type": "execute_result"
    }
   ],
   "source": [
    "# 其他的聚合函数\n",
    "np.all(M)\n",
    "np.any(M)\n",
    "np.percentile(M, 0.5)\n",
    "np.argmin(M)"
   ]
  },
  {
   "cell_type": "code",
   "execution_count": 76,
   "id": "velvet-actress",
   "metadata": {},
   "outputs": [
    {
     "data": {
      "text/plain": [
       "array([[53., 83., 32.],\n",
       "       [53., 83., 32.],\n",
       "       [53., 83., 32.]])"
      ]
     },
     "execution_count": 76,
     "metadata": {},
     "output_type": "execute_result"
    }
   ],
   "source": [
    "# 广播计算：高维度&低维度运算\n",
    "N = np.zeros((3,3))\n",
    "n = np.random.randint(1,100,(3,))\n",
    "N+n"
   ]
  },
  {
   "cell_type": "code",
   "execution_count": 81,
   "id": "alike-service",
   "metadata": {},
   "outputs": [
    {
     "data": {
      "text/plain": [
       "array([[0, 1, 2],\n",
       "       [1, 2, 3],\n",
       "       [2, 3, 4]])"
      ]
     },
     "execution_count": 81,
     "metadata": {},
     "output_type": "execute_result"
    }
   ],
   "source": [
    "# 不同维度同时广播：维度的填充都是对前面的维度填充；无法往后面的维度填充，会报错\n",
    "d1=np.arange(3)\n",
    "d2=np.arange(3)[:, np.newaxis]\n",
    "d1 +d2"
   ]
  },
  {
   "cell_type": "code",
   "execution_count": 86,
   "id": "planned-monster",
   "metadata": {},
   "outputs": [
    {
     "data": {
      "text/plain": [
       "<matplotlib.colorbar.Colorbar at 0x1bfa11a39d0>"
      ]
     },
     "execution_count": 86,
     "metadata": {},
     "output_type": "execute_result"
    },
    {
     "data": {
      "image/png": "[encoded data removed]",
      "text/plain": [
       "<Figure size 432x288 with 2 Axes>"
      ]
     },
     "metadata": {
      "needs_background": "light"
     },
     "output_type": "display_data"
    }
   ],
   "source": [
    "# 应用：二维函数\n",
    "x = np.linspace(0, 5, 50)\n",
    "y = np.linspace(0,5, 50)[:, np.newaxis]\n",
    "z =  y**2 + x**2\n",
    "import matplotlib.pyplot as plt\n",
    "plt.imshow(z, origin='lower', extent=[0,5,0,5], cmap='viridis')\n",
    "plt.colorbar()"
   ]
  }
 ],
 "metadata": {
  "kernelspec": {
   "display_name": "Python 3",
   "language": "python",
   "name": "python3"
  },
  "language_info": {
   "codemirror_mode": {
    "name": "ipython",
    "version": 3
   },
   "file_extension": ".py",
   "mimetype": "text/x-python",
   "name": "python",
   "nbconvert_exporter": "python",
   "pygments_lexer": "ipython3",
   "version": "3.8.5"
  }
 },
 "nbformat": 4,
 "nbformat_minor": 5
}
